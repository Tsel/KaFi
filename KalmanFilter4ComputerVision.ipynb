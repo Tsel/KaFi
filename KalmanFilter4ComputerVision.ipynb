{
 "cells": [
  {
   "cell_type": "code",
   "execution_count": 1,
   "metadata": {
    "collapsed": false
   },
   "outputs": [],
   "source": [
    "import numpy as np\n",
    "import matplotlib.pyplot as plt"
   ]
  },
  {
   "cell_type": "code",
   "execution_count": 2,
   "metadata": {
    "collapsed": true
   },
   "outputs": [],
   "source": [
    "%matplotlib inline"
   ]
  },
  {
   "cell_type": "markdown",
   "metadata": {},
   "source": [
    "# 1 Die Implementierung eines Kalman Filters\n",
    "\n",
    "Dieses Dokument basiert auf:\n",
    "### Kalman and Bayesian Filters in Python\n",
    "#### Roger R Labbe Jr\n",
    "#### February 18, 2016\n",
    "\n",
    "Wir haben verrauschte Messungen in der Zeit vorliegen und wenden einen g-h Filter an, um die unverrauschten Werte zu schätzen. \n",
    "\n",
    "## 1.1 Darlegung des Problems\n",
    "Daten liegen in 2D vor. Messfehler (Rauschen) haben wir nur in der y-Dimension. Das Rauschen ist nicht explizit getrennt vorhanden. Wir wenden einen Filter an, um die unverrauschten Werte zu extrahieren."
   ]
  },
  {
   "cell_type": "code",
   "execution_count": 3,
   "metadata": {
    "collapsed": false
   },
   "outputs": [
    {
     "data": {
      "text/plain": [
       "<matplotlib.text.Text at 0x10bcf7550>"
      ]
     },
     "execution_count": 3,
     "metadata": {},
     "output_type": "execute_result"
    },
    {
     "data": {
      "image/png": "[encoded data removed]",
      "text/plain": [
       "<matplotlib.figure.Figure at 0x10bd2c090>"
      ]
     },
     "metadata": {},
     "output_type": "display_data"
    }
   ],
   "source": [
    "#\n",
    "# Beispieldaten \n",
    "#\n",
    "z = [158.0, 164.2, 160.3, 159.9, 162.1, 164.6, 169.6, 167.4, 166.4, 171.0, 171.2, 172.6]\n",
    "\n",
    "plt.plot(z)\n",
    "plt.xlabel('Time ($t$)', size=20)\n",
    "plt.ylabel('$z(t)$', size = 20)"
   ]
  },
  {
   "cell_type": "markdown",
   "metadata": {},
   "source": [
    "Wir formulieren die Hypothesen \n",
    "1. Ho: die Werte $z(t)$ sind unabhängig von der Zeit $t$,\n",
    "2. H1: die Werte $z(t)$ verändern sich mit der Zeit $t$.\n",
    "\n",
    "Ist Ho wahr, dann können wir weiter annehmen, dass die Werte $z(t)$ eigentlich konstant $\\bar{z}$ betragen. Der beobachtete Trend wäre dann rein zufällig entstanden.\n",
    "\n",
    "Wir verwenden den Mittelwert, da bei Vorliegen von mehr als einem Wert der Mittelwert eine bessere Schätzung für den wahren Wert darstellt."
   ]
  },
  {
   "cell_type": "code",
   "execution_count": 4,
   "metadata": {
    "collapsed": false
   },
   "outputs": [
    {
     "name": "stdout",
     "output_type": "stream",
     "text": [
      "165.608333333\n"
     ]
    }
   ],
   "source": [
    "#\n",
    "# der Mittelwert ist:\n",
    "print np.mean(z)"
   ]
  },
  {
   "cell_type": "code",
   "execution_count": 5,
   "metadata": {
    "collapsed": false
   },
   "outputs": [
    {
     "data": {
      "text/plain": [
       "<matplotlib.legend.Legend at 0x10c790c10>"
      ]
     },
     "execution_count": 5,
     "metadata": {},
     "output_type": "execute_result"
    },
    {
     "data": {
      "image/png": "[encoded data removed]",
      "text/plain": [
       "<matplotlib.figure.Figure at 0x10becbe90>"
      ]
     },
     "metadata": {},
     "output_type": "display_data"
    }
   ],
   "source": [
    "plt.plot(z, label='observed z')\n",
    "plt.plot([0,12], [np.mean(z), np.mean(z)], c='r', label = 'Ho Z(t) = z = 165')\n",
    "plt.xlabel('Time ($t$)', size=20)\n",
    "plt.ylabel('$z(t)$', size = 20)\n",
    "plt.legend(loc='best')"
   ]
  },
  {
   "cell_type": "code",
   "execution_count": null,
   "metadata": {
    "collapsed": true
   },
   "outputs": [],
   "source": []
  },
  {
   "cell_type": "code",
   "execution_count": 6,
   "metadata": {
    "collapsed": false
   },
   "outputs": [
    {
     "name": "stdout",
     "output_type": "stream",
     "text": [
      "est Slope:  1.23041958042\n",
      "intercept:  158.841025641\n"
     ]
    }
   ],
   "source": [
    "x = range(len(z))\n",
    "slope, intercept = np.polyfit(x, z, 1)\n",
    "print \"est Slope: \", slope\n",
    "print \"intercept: \", intercept"
   ]
  },
  {
   "cell_type": "code",
   "execution_count": 7,
   "metadata": {
    "collapsed": false
   },
   "outputs": [
    {
     "name": "stdout",
     "output_type": "stream",
     "text": [
      "[   1.23041958  158.84102564]\n"
     ]
    }
   ],
   "source": [
    "print np.polyfit(x,z,1)"
   ]
  },
  {
   "cell_type": "markdown",
   "metadata": {},
   "source": [
    "Wir lassen uns $N$ *len(z)* **int** Zufallswerte aus dem Intervall [158, 172] generieren und bestimmen den Anteil $p$ bei dem *est. Slope* $\\geq 1$ ist. "
   ]
  },
  {
   "cell_type": "code",
   "execution_count": 8,
   "metadata": {
    "collapsed": false
   },
   "outputs": [
    {
     "name": "stdout",
     "output_type": "stream",
     "text": [
      "[ 167.23385869  160.71910122  172.34651268  169.15173419  162.17382047\n",
      "  161.58963065  159.63550255  170.90619614  165.08597468  166.50258218\n",
      "  163.12215723  160.34837926]\n"
     ]
    }
   ],
   "source": [
    "r = np.random.uniform(np.min(z), np.max(z), len(z))\n",
    "print r"
   ]
  },
  {
   "cell_type": "code",
   "execution_count": 9,
   "metadata": {
    "collapsed": false
   },
   "outputs": [
    {
     "name": "stdout",
     "output_type": "stream",
     "text": [
      "-0.318552733581\n"
     ]
    }
   ],
   "source": [
    "s, ic = np.polyfit(x, r, 1)\n",
    "print s"
   ]
  },
  {
   "cell_type": "code",
   "execution_count": 10,
   "metadata": {
    "collapsed": false
   },
   "outputs": [
    {
     "name": "stdout",
     "output_type": "stream",
     "text": [
      "1.08665204267 298 0.00335570469799\n"
     ]
    }
   ],
   "source": [
    "count = 0\n",
    "s = 0\n",
    "while s < 1.0 and count < 25000:\n",
    "    r = np.random.uniform(np.min(z), np.max(z), len(z))\n",
    "    s, ic = np.polyfit(x,r,1)\n",
    "    count = count + 1\n",
    "    \n",
    "\n",
    "print s, count, 1.0/count"
   ]
  },
  {
   "cell_type": "code",
   "execution_count": 11,
   "metadata": {
    "collapsed": false
   },
   "outputs": [],
   "source": [
    "def rgt1s():\n",
    "    count = 0\n",
    "    s = 0\n",
    "    while s < 1.0 and count < 50000:\n",
    "        r = np.random.randint(np.min(z), np.max(z), len(z))\n",
    "        s, ic = np.polyfit(x,r,1)\n",
    "        count = count + 1\n",
    "            \n",
    "    return count"
   ]
  },
  {
   "cell_type": "code",
   "execution_count": 12,
   "metadata": {
    "collapsed": false
   },
   "outputs": [
    {
     "name": "stdout",
     "output_type": "stream",
     "text": [
      "53\n"
     ]
    }
   ],
   "source": [
    "cs = np.asarray(rgt1s())\n",
    "print cs"
   ]
  },
  {
   "cell_type": "code",
   "execution_count": 13,
   "metadata": {
    "collapsed": false
   },
   "outputs": [
    {
     "name": "stdout",
     "output_type": "stream",
     "text": [
      "[  53  411 5178 ..., 1140  251  421]\n",
      "1117.81418581\n"
     ]
    }
   ],
   "source": [
    "for N in np.arange(1000):\n",
    "    cs = np.append(cs, rgt1s())\n",
    "    \n",
    "print cs\n",
    "print np.mean(cs)"
   ]
  },
  {
   "cell_type": "code",
   "execution_count": 14,
   "metadata": {
    "collapsed": false
   },
   "outputs": [
    {
     "name": "stdout",
     "output_type": "stream",
     "text": [
      "777.0\n"
     ]
    }
   ],
   "source": [
    "print np.median(cs)"
   ]
  },
  {
   "cell_type": "code",
   "execution_count": 15,
   "metadata": {
    "collapsed": true
   },
   "outputs": [],
   "source": [
    "import timeit"
   ]
  },
  {
   "cell_type": "code",
   "execution_count": 16,
   "metadata": {
    "collapsed": false
   },
   "outputs": [
    {
     "name": "stdout",
     "output_type": "stream",
     "text": [
      "1 loops, best of 3: 890 ms per loop\n"
     ]
    }
   ],
   "source": [
    "%timeit for N in range(10): rgt1s()"
   ]
  },
  {
   "cell_type": "code",
   "execution_count": 18,
   "metadata": {
    "collapsed": false
   },
   "outputs": [
    {
     "data": {
      "text/plain": [
       "(array([ 509.,  250.,  123.,   62.,   28.,   16.,    7.,    3.,    2.,    1.]),\n",
       " array([  1.00000000e+00,   7.98200000e+02,   1.59540000e+03,\n",
       "          2.39260000e+03,   3.18980000e+03,   3.98700000e+03,\n",
       "          4.78420000e+03,   5.58140000e+03,   6.37860000e+03,\n",
       "          7.17580000e+03,   7.97300000e+03]),\n",
       " <a list of 10 Patch objects>)"
      ]
     },
     "execution_count": 18,
     "metadata": {},
     "output_type": "execute_result"
    },
    {
     "data": {
      "image/png": "[encoded data removed]",
      "text/plain": [
       "<matplotlib.figure.Figure at 0x10bd1ec90>"
      ]
     },
     "metadata": {},
     "output_type": "display_data"
    }
   ],
   "source": [
    "plt.hist(cs)"
   ]
  },
  {
   "cell_type": "code",
   "execution_count": 19,
   "metadata": {
    "collapsed": false
   },
   "outputs": [
    {
     "data": {
      "text/plain": [
       "[<matplotlib.lines.Line2D at 0x10c755090>]"
      ]
     },
     "execution_count": 19,
     "metadata": {},
     "output_type": "execute_result"
    },
    {
     "data": {
      "image/png": "[encoded data removed]",
      "text/plain": [
       "<matplotlib.figure.Figure at 0x10c65e890>"
      ]
     },
     "metadata": {},
     "output_type": "display_data"
    }
   ],
   "source": [
    "#\n",
    "# cumulative distribution plot\n",
    "# some fake data\n",
    "# evaluate the histogram\n",
    "values, base = np.histogram(cs, bins=45)\n",
    "#evaluate the cumulative\n",
    "cumulative = np.cumsum(values)\n",
    "# plot the cumulative function\n",
    "plt.plot(base[:-1], cumulative, c='blue')"
   ]
  },
  {
   "cell_type": "code",
   "execution_count": 20,
   "metadata": {
    "collapsed": false
   },
   "outputs": [
    {
     "data": {
      "text/plain": [
       "(array([ 0.13086913,  0.26773227,  0.38161838,  0.46553447,  0.54645355,\n",
       "         0.61138861,  0.66933067,  0.72527473,  0.75824176,  0.7962038 ,\n",
       "         0.82317682,  0.85014985,  0.87412587,  0.89110889,  0.90509491,\n",
       "         0.92007992,  0.93406593,  0.94305694,  0.95304695,  0.95504496,\n",
       "         0.96103896,  0.97002997,  0.97602398,  0.98301698,  0.98301698,\n",
       "         0.98501499,  0.98701299,  0.98901099,  0.99100899,  0.99400599,\n",
       "         0.99400599,  0.99400599,  0.99400599,  0.99400599,  0.995005  ,\n",
       "         0.997003  ,  0.997003  ,  0.998002  ,  0.999001  ,  0.999001  ,\n",
       "         0.999001  ,  0.999001  ,  0.999001  ,  0.999001  ,  1.        ]),\n",
       " array([  1.00000000e+00,   1.78155556e+02,   3.55311111e+02,\n",
       "          5.32466667e+02,   7.09622222e+02,   8.86777778e+02,\n",
       "          1.06393333e+03,   1.24108889e+03,   1.41824444e+03,\n",
       "          1.59540000e+03,   1.77255556e+03,   1.94971111e+03,\n",
       "          2.12686667e+03,   2.30402222e+03,   2.48117778e+03,\n",
       "          2.65833333e+03,   2.83548889e+03,   3.01264444e+03,\n",
       "          3.18980000e+03,   3.36695556e+03,   3.54411111e+03,\n",
       "          3.72126667e+03,   3.89842222e+03,   4.07557778e+03,\n",
       "          4.25273333e+03,   4.42988889e+03,   4.60704444e+03,\n",
       "          4.78420000e+03,   4.96135556e+03,   5.13851111e+03,\n",
       "          5.31566667e+03,   5.49282222e+03,   5.66997778e+03,\n",
       "          5.84713333e+03,   6.02428889e+03,   6.20144444e+03,\n",
       "          6.37860000e+03,   6.55575556e+03,   6.73291111e+03,\n",
       "          6.91006667e+03,   7.08722222e+03,   7.26437778e+03,\n",
       "          7.44153333e+03,   7.61868889e+03,   7.79584444e+03,\n",
       "          7.97300000e+03]),\n",
       " <a list of 1 Patch objects>)"
      ]
     },
     "execution_count": 20,
     "metadata": {},
     "output_type": "execute_result"
    },
    {
     "data": {
      "image/png": "[encoded data removed]",
      "text/plain": [
       "<matplotlib.figure.Figure at 0x10c6b21d0>"
      ]
     },
     "metadata": {},
     "output_type": "display_data"
    }
   ],
   "source": [
    "plt.hist(cs, 45, normed=1, histtype='step', cumulative=True)"
   ]
  },
  {
   "cell_type": "code",
   "execution_count": null,
   "metadata": {
    "collapsed": true
   },
   "outputs": [],
   "source": []
  }
 ],
 "metadata": {
  "kernelspec": {
   "display_name": "Python 2",
   "language": "python",
   "name": "python2"
  },
  "language_info": {
   "codemirror_mode": {
    "name": "ipython",
    "version": 2
   },
   "file_extension": ".py",
   "mimetype": "text/x-python",
   "name": "python",
   "nbconvert_exporter": "python",
   "pygments_lexer": "ipython2",
   "version": "2.7.12"
  }
 },
 "nbformat": 4,
 "nbformat_minor": 0
}
