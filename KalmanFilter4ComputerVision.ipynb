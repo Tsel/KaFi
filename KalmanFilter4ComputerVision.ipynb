{
 "cells": [
  {
   "cell_type": "code",
   "execution_count": 1,
   "metadata": {
    "collapsed": false
   },
   "outputs": [],
   "source": [
    "import numpy as np\n",
    "import matplotlib.pyplot as plt"
   ]
  },
  {
   "cell_type": "code",
   "execution_count": 2,
   "metadata": {
    "collapsed": true
   },
   "outputs": [],
   "source": [
    "%matplotlib inline"
   ]
  },
  {
   "cell_type": "markdown",
   "metadata": {},
   "source": [
    "# 1 Die Implementierung eines g-h Filters\n",
    "\n",
    "Dieses Dokument basiert auf:\n",
    "### Kalman and Bayesian Filters in Python\n",
    "#### Roger R Labbe Jr\n",
    "#### February 18, 2016\n",
    "\n",
    "Wir haben verrauschte Messungen in der Zeit vorliegen und wenden einen g-h Filter an, um die unverrauschten Werte zu schätzen. \n",
    "\n",
    "## 1.1 verrauschte Daten\n",
    "Daten liegen in 2D vor. Messfehler (Rauschen) haben wir nur in der y-Dimension. Das Rauschen ist nicht explizit vorhanden, was bedeutet, dass wir nicht dir unverrauschen Daten und das Rauschen vorliegen haben. "
   ]
  },
  {
   "cell_type": "code",
   "execution_count": 3,
   "metadata": {
    "collapsed": false
   },
   "outputs": [
    {
     "data": {
      "text/plain": [
       "<matplotlib.text.Text at 0x10bf3a550>"
      ]
     },
     "execution_count": 3,
     "metadata": {},
     "output_type": "execute_result"
    },
    {
     "data": {
      "image/png": "[encoded data removed]",
      "text/plain": [
       "<matplotlib.figure.Figure at 0x10c8fc090>"
      ]
     },
     "metadata": {},
     "output_type": "display_data"
    }
   ],
   "source": [
    "z = [158.0, 164.2, 160.3, 159.9, 162.1, 164.6, 169.6, 167.4, 166.4, 171.0, 171.2, 172.6]\n",
    "\n",
    "plt.plot(z)\n",
    "plt.xlabel('Time ($t$)', size=20)\n",
    "plt.ylabel('$z(t)$', size = 20)"
   ]
  },
  {
   "cell_type": "markdown",
   "metadata": {},
   "source": [
    "Wir formulieren die Hypothesen \n",
    "1. Ho: die Werte $z(t)$ sind unabhängig von der Zeit $t$,\n",
    "2. H1: die Werte $z(t)$ verändern sich mit der Zeit $t$,\n",
    "\n",
    "formulieren.\n",
    "\n",
    "Wenn die Werte unabhängig von der Zeit sind, dann können wir z.B. das die Werte $z(t)$ eigentlich constant 165 betragen. Der beobachtete Trend ist zufällig entstanden. "
   ]
  },
  {
   "cell_type": "code",
   "execution_count": null,
   "metadata": {
    "collapsed": true
   },
   "outputs": [],
   "source": []
  }
 ],
 "metadata": {
  "kernelspec": {
   "display_name": "Python 2",
   "language": "python",
   "name": "python2"
  },
  "language_info": {
   "codemirror_mode": {
    "name": "ipython",
    "version": 2
   },
   "file_extension": ".py",
   "mimetype": "text/x-python",
   "name": "python",
   "nbconvert_exporter": "python",
   "pygments_lexer": "ipython2",
   "version": "2.7.12"
  }
 },
 "nbformat": 4,
 "nbformat_minor": 0
}
